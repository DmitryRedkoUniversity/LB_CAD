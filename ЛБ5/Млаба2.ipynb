{
  "cells": [
    {
      "cell_type": "code",
      "execution_count": 380,
      "metadata": {
        "id": "lN3VLqm104Wx"
      },
      "outputs": [],
      "source": [
        "\n",
        "import math\n",
        "import pandas as pd #программная библиотека на языке Python для обработки и анализа данных.\n",
        "import numpy as np #программная библиотека на языке Python для работы с многомерными массивам.\n",
        "import  matplotlib.pyplot as plt # библиотека на языке программирования Python для визуализации данных двумерной графикой.\n",
        "import seaborn as sns #библиотека на matplotlib. Предоставляет высокоуровневый интерфейс для рисования привлекательных и информативных статистических графиков.\n",
        "import scipy.stats as sps #библиотека для языка программирования Python с открытым исходным кодом, предназначенная для выполнения научных и инженерных расчётов."
      ]
    },
    {
      "cell_type": "code",
      "execution_count": 381,
      "metadata": {
        "id": "IJVsxm-fzuGY"
      },
      "outputs": [],
      "source": [
        "N = 600  # Размер выборки\n",
        "alpha = 0.01  # Уровень значимости\n",
        "\n",
        "# Генерируем случайную выборку с нормальным распределением\n",
        "mean = 0  # Среднее значение\n",
        "std_dev = 1  # Среднеквадратическое отклонение\n",
        "L = np.random.normal(mean, std_dev, N)"
      ]
    },
    {
      "cell_type": "code",
      "execution_count": 382,
      "metadata": {
        "colab": {
          "base_uri": "https://localhost:8080/"
        },
        "id": "W39P1Scy02gC",
        "outputId": "7753ea0a-a517-4cd0-d1f6-0ce3a738b7bd"
      },
      "outputs": [
        {
          "name": "stdout",
          "output_type": "stream",
          "text": [
            "[-2.92001305e+00 -2.44526539e+00 -2.23498845e+00 -2.22726126e+00\n",
            " -2.20060936e+00 -2.16635847e+00 -2.16015655e+00 -2.10696663e+00\n",
            " -2.08094191e+00 -2.02794354e+00 -1.98347191e+00 -1.91214902e+00\n",
            " -1.87824717e+00 -1.84926188e+00 -1.81392310e+00 -1.80702150e+00\n",
            " -1.78483437e+00 -1.76763592e+00 -1.74281163e+00 -1.69529564e+00\n",
            " -1.69158251e+00 -1.68925129e+00 -1.68752680e+00 -1.67023985e+00\n",
            " -1.66234220e+00 -1.64963823e+00 -1.60561897e+00 -1.60524688e+00\n",
            " -1.58419672e+00 -1.56123498e+00 -1.55214948e+00 -1.54266394e+00\n",
            " -1.52238970e+00 -1.50981459e+00 -1.48324776e+00 -1.46785269e+00\n",
            " -1.45270886e+00 -1.42617086e+00 -1.42293703e+00 -1.42147016e+00\n",
            " -1.40277438e+00 -1.39442209e+00 -1.37273638e+00 -1.36764985e+00\n",
            " -1.35660381e+00 -1.33974822e+00 -1.33325128e+00 -1.32879735e+00\n",
            " -1.30259360e+00 -1.29168304e+00 -1.23989796e+00 -1.21755724e+00\n",
            " -1.20041367e+00 -1.18685714e+00 -1.16865922e+00 -1.14875220e+00\n",
            " -1.14668776e+00 -1.13932803e+00 -1.12570331e+00 -1.12519686e+00\n",
            " -1.11978673e+00 -1.11747729e+00 -1.11745762e+00 -1.11497649e+00\n",
            " -1.11047272e+00 -1.10613469e+00 -1.10432628e+00 -1.09050748e+00\n",
            " -1.07884370e+00 -1.07422612e+00 -1.07150538e+00 -1.06449102e+00\n",
            " -1.05873820e+00 -1.04841008e+00 -1.04702385e+00 -1.02265184e+00\n",
            " -1.01554450e+00 -1.01268961e+00 -1.01246377e+00 -1.00807211e+00\n",
            " -9.93751335e-01 -9.85262594e-01 -9.83618969e-01 -9.78778499e-01\n",
            " -9.73469413e-01 -9.57433097e-01 -9.56304184e-01 -9.49164039e-01\n",
            " -9.43283943e-01 -9.41562116e-01 -9.31854032e-01 -9.31222858e-01\n",
            " -9.30343828e-01 -9.20444108e-01 -9.13445635e-01 -9.09178974e-01\n",
            " -9.08623214e-01 -9.03826143e-01 -9.00911064e-01 -8.94003327e-01\n",
            " -8.88507509e-01 -8.87992992e-01 -8.81457447e-01 -8.58708813e-01\n",
            " -8.47419555e-01 -8.38926876e-01 -8.17333849e-01 -8.02880977e-01\n",
            " -7.91715912e-01 -7.85323995e-01 -7.84224874e-01 -7.81394968e-01\n",
            " -7.75874393e-01 -7.75547486e-01 -7.69895588e-01 -7.67887715e-01\n",
            " -7.54271928e-01 -7.53195709e-01 -7.47158001e-01 -7.40815172e-01\n",
            " -7.37544629e-01 -7.33971560e-01 -7.25750740e-01 -7.24380423e-01\n",
            " -7.17361596e-01 -7.10966877e-01 -7.10572035e-01 -7.03904771e-01\n",
            " -7.03026328e-01 -7.00065569e-01 -6.99419675e-01 -6.98933621e-01\n",
            " -6.94624979e-01 -6.93849064e-01 -6.93299684e-01 -6.88130483e-01\n",
            " -6.84863459e-01 -6.71266659e-01 -6.70136848e-01 -6.69445147e-01\n",
            " -6.69148139e-01 -6.62476806e-01 -6.52768576e-01 -6.51666152e-01\n",
            " -6.49652607e-01 -6.47089567e-01 -6.42151558e-01 -6.40024203e-01\n",
            " -6.39972651e-01 -6.37667822e-01 -6.35198965e-01 -6.33966247e-01\n",
            " -6.31395066e-01 -6.25898809e-01 -6.19319705e-01 -6.08035608e-01\n",
            " -6.03819569e-01 -5.88153551e-01 -5.85638633e-01 -5.76965253e-01\n",
            " -5.73417982e-01 -5.72057916e-01 -5.66009221e-01 -5.60447902e-01\n",
            " -5.58807359e-01 -5.56542686e-01 -5.55650178e-01 -5.51887188e-01\n",
            " -5.49405636e-01 -5.49196503e-01 -5.42312544e-01 -5.40551180e-01\n",
            " -5.32695406e-01 -5.20309383e-01 -5.19871857e-01 -5.15011947e-01\n",
            " -5.12016429e-01 -5.10954971e-01 -5.10290069e-01 -5.07024701e-01\n",
            " -5.00380463e-01 -4.98108645e-01 -4.97126346e-01 -4.92182636e-01\n",
            " -4.85012311e-01 -4.75742813e-01 -4.70811151e-01 -4.69153121e-01\n",
            " -4.50871661e-01 -4.42743254e-01 -4.39838363e-01 -4.38575603e-01\n",
            " -4.30795101e-01 -4.27994121e-01 -4.26961218e-01 -4.24248250e-01\n",
            " -4.23802683e-01 -4.22486875e-01 -4.22003758e-01 -4.17575449e-01\n",
            " -4.17029985e-01 -4.14615244e-01 -4.13748372e-01 -4.11571739e-01\n",
            " -4.10212979e-01 -4.09199292e-01 -4.01254477e-01 -3.98487931e-01\n",
            " -3.98218225e-01 -3.93767282e-01 -3.82166297e-01 -3.76759058e-01\n",
            " -3.53077621e-01 -3.36102221e-01 -3.29526513e-01 -3.24564860e-01\n",
            " -3.22403139e-01 -3.17397879e-01 -3.11655774e-01 -3.11214127e-01\n",
            " -3.10329630e-01 -3.07659565e-01 -3.07449659e-01 -3.05945022e-01\n",
            " -3.03812428e-01 -3.03739905e-01 -2.91308453e-01 -2.88332284e-01\n",
            " -2.86573828e-01 -2.81186764e-01 -2.79507682e-01 -2.76717454e-01\n",
            " -2.76604820e-01 -2.76123063e-01 -2.74652072e-01 -2.71947904e-01\n",
            " -2.63694789e-01 -2.62647796e-01 -2.62312645e-01 -2.61027765e-01\n",
            " -2.56938600e-01 -2.54200682e-01 -2.52270206e-01 -2.43765698e-01\n",
            " -2.42301375e-01 -2.37744956e-01 -2.34405364e-01 -2.32446418e-01\n",
            " -2.29052806e-01 -2.28658326e-01 -2.28176800e-01 -2.23044819e-01\n",
            " -2.20509470e-01 -2.01838152e-01 -2.01212428e-01 -1.98089314e-01\n",
            " -1.96798891e-01 -1.96424270e-01 -1.95849110e-01 -1.92054433e-01\n",
            " -1.86804657e-01 -1.76538255e-01 -1.72626405e-01 -1.70070003e-01\n",
            " -1.60373590e-01 -1.57725742e-01 -1.48904458e-01 -1.46496656e-01\n",
            " -1.45626773e-01 -1.43585281e-01 -1.41027985e-01 -1.37903008e-01\n",
            " -1.31109951e-01 -1.30494840e-01 -1.21539581e-01 -1.19965886e-01\n",
            " -1.16108341e-01 -1.14047020e-01 -1.12127833e-01 -1.10843532e-01\n",
            " -1.06860569e-01 -1.04399781e-01 -9.91143528e-02 -9.61570269e-02\n",
            " -9.49095470e-02 -9.27119949e-02 -8.81577519e-02 -8.17855906e-02\n",
            " -7.95868644e-02 -7.91880696e-02 -7.74893437e-02 -7.66203635e-02\n",
            " -7.62057823e-02 -7.22657900e-02 -6.56542265e-02 -6.53770226e-02\n",
            " -6.33573057e-02 -5.70049917e-02 -4.55174468e-02 -4.41806137e-02\n",
            " -3.58094002e-02 -3.34229859e-02 -3.31220431e-02 -3.05365250e-02\n",
            " -2.99784414e-02 -2.95837444e-02 -2.88947834e-02 -2.77200706e-02\n",
            " -9.54486293e-03 -4.26536183e-03 -1.35704140e-03 -5.42821709e-04\n",
            "  4.08841678e-03  5.36224114e-03  1.01271579e-02  1.03081304e-02\n",
            "  1.29261777e-02  2.20077708e-02  3.26858528e-02  4.17211075e-02\n",
            "  4.21657423e-02  4.60299575e-02  4.62216289e-02  4.62917324e-02\n",
            "  5.45920078e-02  5.50255553e-02  6.11575033e-02  7.65776949e-02\n",
            "  7.83430269e-02  8.76995703e-02  9.18164052e-02  9.78740620e-02\n",
            "  9.99428133e-02  1.03030956e-01  1.11260034e-01  1.15758088e-01\n",
            "  1.22819058e-01  1.27591367e-01  1.43363482e-01  1.45604730e-01\n",
            "  1.47635938e-01  1.55926354e-01  1.59327771e-01  1.65459573e-01\n",
            "  1.65508242e-01  1.68152531e-01  1.70795694e-01  1.73073173e-01\n",
            "  1.73146280e-01  1.78747216e-01  1.81111101e-01  1.86263429e-01\n",
            "  1.89814441e-01  2.07475271e-01  2.11040801e-01  2.12003822e-01\n",
            "  2.14705048e-01  2.20211904e-01  2.22401583e-01  2.26075723e-01\n",
            "  2.29866504e-01  2.38136821e-01  2.41042078e-01  2.43374647e-01\n",
            "  2.46475525e-01  2.47436579e-01  2.48876768e-01  2.49731960e-01\n",
            "  2.50721211e-01  2.53157953e-01  2.58042400e-01  2.65686332e-01\n",
            "  2.66688467e-01  2.69764444e-01  2.70174764e-01  2.78586409e-01\n",
            "  2.78864991e-01  2.85178954e-01  2.91076533e-01  2.93389126e-01\n",
            "  2.94321740e-01  2.97070260e-01  3.02471052e-01  3.07827120e-01\n",
            "  3.14099826e-01  3.17369044e-01  3.20945209e-01  3.22188938e-01\n",
            "  3.22482827e-01  3.26095225e-01  3.29581846e-01  3.35330034e-01\n",
            "  3.43173978e-01  3.46755791e-01  3.49873076e-01  3.62981183e-01\n",
            "  3.66770037e-01  3.67702591e-01  3.79830166e-01  3.79848342e-01\n",
            "  3.84437864e-01  3.93205878e-01  3.94253201e-01  3.97856177e-01\n",
            "  3.98024111e-01  4.00385675e-01  4.08499566e-01  4.09292079e-01\n",
            "  4.14662964e-01  4.22654113e-01  4.34803543e-01  4.38311135e-01\n",
            "  4.39473814e-01  4.42936749e-01  4.52651602e-01  4.58556344e-01\n",
            "  4.62182648e-01  4.63509972e-01  4.69182290e-01  4.71361197e-01\n",
            "  4.72788584e-01  4.84594743e-01  4.88021404e-01  4.90045024e-01\n",
            "  4.93325682e-01  4.94221373e-01  4.96963478e-01  5.04231483e-01\n",
            "  5.09760412e-01  5.10682209e-01  5.15002603e-01  5.17132904e-01\n",
            "  5.18085951e-01  5.22373108e-01  5.28032735e-01  5.28271176e-01\n",
            "  5.34198806e-01  5.35830746e-01  5.39155613e-01  5.44738912e-01\n",
            "  5.44968307e-01  5.50633955e-01  5.51341200e-01  5.51799539e-01\n",
            "  5.54806168e-01  5.61324832e-01  5.80418902e-01  5.89680928e-01\n",
            "  5.94792587e-01  5.96857860e-01  6.00326622e-01  6.07433982e-01\n",
            "  6.14571016e-01  6.20815709e-01  6.34835188e-01  6.38535107e-01\n",
            "  6.43052645e-01  6.52755117e-01  6.56698834e-01  6.59415819e-01\n",
            "  6.60234922e-01  6.67620640e-01  6.86296688e-01  6.88972049e-01\n",
            "  6.95184640e-01  6.98167647e-01  6.98602756e-01  7.01912222e-01\n",
            "  7.07375900e-01  7.11296711e-01  7.15064491e-01  7.15743243e-01\n",
            "  7.17070386e-01  7.18184982e-01  7.20766854e-01  7.24093666e-01\n",
            "  7.27403061e-01  7.28683954e-01  7.31128529e-01  7.31511879e-01\n",
            "  7.34440749e-01  7.47013954e-01  7.55584937e-01  7.82080395e-01\n",
            "  7.95436617e-01  8.09680703e-01  8.27645349e-01  8.38076940e-01\n",
            "  8.39146750e-01  8.45184773e-01  8.54063933e-01  8.63524376e-01\n",
            "  8.68220504e-01  8.70839874e-01  8.76263188e-01  8.77239272e-01\n",
            "  8.94484867e-01  8.99175986e-01  9.00078951e-01  9.05354363e-01\n",
            "  9.15174186e-01  9.21552392e-01  9.45207091e-01  9.65594963e-01\n",
            "  9.71309441e-01  9.82914383e-01  9.86576970e-01  1.00157648e+00\n",
            "  1.01292109e+00  1.02327219e+00  1.02505441e+00  1.02591538e+00\n",
            "  1.02592091e+00  1.03212045e+00  1.04008068e+00  1.04849243e+00\n",
            "  1.05234713e+00  1.06049923e+00  1.07344100e+00  1.07489756e+00\n",
            "  1.07871653e+00  1.09944738e+00  1.10236719e+00  1.10423764e+00\n",
            "  1.12867801e+00  1.13266407e+00  1.13441059e+00  1.14355676e+00\n",
            "  1.14832028e+00  1.14890093e+00  1.15092003e+00  1.15523693e+00\n",
            "  1.16464930e+00  1.17024396e+00  1.18246561e+00  1.19766347e+00\n",
            "  1.21970793e+00  1.22069013e+00  1.22635115e+00  1.23252306e+00\n",
            "  1.24698699e+00  1.25481398e+00  1.26810446e+00  1.27940978e+00\n",
            "  1.28227244e+00  1.29306565e+00  1.30961100e+00  1.31252965e+00\n",
            "  1.33688211e+00  1.34555805e+00  1.35822833e+00  1.35844874e+00\n",
            "  1.37570285e+00  1.38434561e+00  1.38489181e+00  1.38676866e+00\n",
            "  1.39153307e+00  1.40654172e+00  1.41284999e+00  1.42783994e+00\n",
            "  1.45310030e+00  1.45612822e+00  1.46277756e+00  1.46936639e+00\n",
            "  1.47377555e+00  1.50225792e+00  1.50943889e+00  1.52033362e+00\n",
            "  1.52734817e+00  1.56484192e+00  1.57673726e+00  1.58355065e+00\n",
            "  1.59436988e+00  1.59691765e+00  1.59830056e+00  1.61816299e+00\n",
            "  1.61835547e+00  1.62842282e+00  1.64307462e+00  1.65254368e+00\n",
            "  1.68740691e+00  1.69191945e+00  1.73851588e+00  1.74519036e+00\n",
            "  1.74979093e+00  1.75863608e+00  1.76143923e+00  1.76573236e+00\n",
            "  1.76919081e+00  1.77946404e+00  1.85014947e+00  1.87893347e+00\n",
            "  1.99291987e+00  2.07639501e+00  2.14935419e+00  2.21694522e+00\n",
            "  2.22462756e+00  2.74709173e+00  3.13873197e+00  3.49496737e+00]\n"
          ]
        }
      ],
      "source": [
        "L.sort()\n",
        "print(L)"
      ]
    },
    {
      "cell_type": "code",
      "execution_count": 383,
      "metadata": {
        "colab": {
          "base_uri": "https://localhost:8080/"
        },
        "id": "l7Tdb89S0-MW",
        "outputId": "07365a01-f16b-477b-b0cb-0e227cbfa7fd"
      },
      "outputs": [
        {
          "name": "stdout",
          "output_type": "stream",
          "text": [
            "-2.920013053308886\n",
            "3.494967369447637\n"
          ]
        }
      ],
      "source": [
        "Min=L[0]\n",
        "Max=L[len(L)-1]\n",
        "print(Min)\n",
        "print(Max)"
      ]
    },
    {
      "cell_type": "code",
      "execution_count": 384,
      "metadata": {
        "colab": {
          "base_uri": "https://localhost:8080/"
        },
        "id": "1YkCFFuH1AjX",
        "outputId": "0dbd47b4-8b9c-41aa-e2fe-3ff33c6b0288"
      },
      "outputs": [],
      "source": [
        "m=7"
      ]
    },
    {
      "cell_type": "code",
      "execution_count": 385,
      "metadata": {
        "colab": {
          "base_uri": "https://localhost:8080/"
        },
        "id": "2T5RUk6w1B5Q",
        "outputId": "020d84e3-1cde-4e9a-e069-1d743394cd7a"
      },
      "outputs": [
        {
          "name": "stdout",
          "output_type": "stream",
          "text": [
            "0.9164257746795033\n",
            "[-2.920013053308886, -2.003587278629383, -1.0871615039498796, -0.17073572927037617, 0.7456900454091269, 1.66211582008863, 2.578541594768134, 3.494967369447637]\n"
          ]
        }
      ],
      "source": [
        "d=(Max-Min)/m\n",
        "print(d)\n",
        "bins= [Min+d*i for i in range(8)]\n",
        "print(bins)"
      ]
    },
    {
      "cell_type": "code",
      "execution_count": 386,
      "metadata": {
        "colab": {
          "base_uri": "https://localhost:8080/",
          "height": 269
        },
        "id": "o0MrpJDW1E8O",
        "outputId": "f9f365e8-8019-4593-df2d-9ae4cdeaeca4"
      },
      "outputs": [
        {
          "data": {
            "text/html": [
              "<div>\n",
              "<style scoped>\n",
              "    .dataframe tbody tr th:only-of-type {\n",
              "        vertical-align: middle;\n",
              "    }\n",
              "\n",
              "    .dataframe tbody tr th {\n",
              "        vertical-align: top;\n",
              "    }\n",
              "\n",
              "    .dataframe thead th {\n",
              "        text-align: right;\n",
              "    }\n",
              "</style>\n",
              "<table border=\"1\" class=\"dataframe\">\n",
              "  <thead>\n",
              "    <tr style=\"text-align: right;\">\n",
              "      <th></th>\n",
              "      <th>Интервал</th>\n",
              "      <th>Частота</th>\n",
              "    </tr>\n",
              "  </thead>\n",
              "  <tbody>\n",
              "    <tr>\n",
              "      <th>0</th>\n",
              "      <td>(-2.92;-2.0)</td>\n",
              "      <td>10</td>\n",
              "    </tr>\n",
              "    <tr>\n",
              "      <th>1</th>\n",
              "      <td>(-2.0;-1.09)</td>\n",
              "      <td>58</td>\n",
              "    </tr>\n",
              "    <tr>\n",
              "      <th>2</th>\n",
              "      <td>(-1.09;-0.17)</td>\n",
              "      <td>195</td>\n",
              "    </tr>\n",
              "    <tr>\n",
              "      <th>3</th>\n",
              "      <td>(-0.17;0.75)</td>\n",
              "      <td>218</td>\n",
              "    </tr>\n",
              "    <tr>\n",
              "      <th>4</th>\n",
              "      <td>(0.75;1.66)</td>\n",
              "      <td>99</td>\n",
              "    </tr>\n",
              "    <tr>\n",
              "      <th>5</th>\n",
              "      <td>(1.66;2.58)</td>\n",
              "      <td>17</td>\n",
              "    </tr>\n",
              "    <tr>\n",
              "      <th>6</th>\n",
              "      <td>(2.58;3.49)</td>\n",
              "      <td>3</td>\n",
              "    </tr>\n",
              "  </tbody>\n",
              "</table>\n",
              "</div>"
            ],
            "text/plain": [
              "        Интервал  Частота\n",
              "0   (-2.92;-2.0)       10\n",
              "1   (-2.0;-1.09)       58\n",
              "2  (-1.09;-0.17)      195\n",
              "3   (-0.17;0.75)      218\n",
              "4    (0.75;1.66)       99\n",
              "5    (1.66;2.58)       17\n",
              "6    (2.58;3.49)        3"
            ]
          },
          "execution_count": 386,
          "metadata": {},
          "output_type": "execute_result"
        }
      ],
      "source": [
        "df = pd.DataFrame({'Интервал': ['('+str(round(Min+d*i,2))+';'+str(round(Min+d*(i+1),2))+')' for i in range(7)], 'Частота': [0 for i in range(m)]})\n",
        "for i in range(len(bins)-1):\n",
        "  k=0\n",
        "  for j in L:\n",
        "    if(j>=bins[i]) and (j<=bins[i+1]):\n",
        "      k+=1\n",
        "  df.at[i,\"Частота\"]=k\n",
        "df"
      ]
    },
    {
      "cell_type": "code",
      "execution_count": 387,
      "metadata": {
        "colab": {
          "base_uri": "https://localhost:8080/",
          "height": 483
        },
        "id": "a9YG1N_Z1Gpi",
        "outputId": "1748471c-176f-4de8-d3f8-c95a0f873d89"
      },
      "outputs": [
        {
          "data": {
            "image/png": "[encoded data removed]",
            "text/plain": [
              "<Figure size 1000x800 with 1 Axes>"
            ]
          },
          "metadata": {},
          "output_type": "display_data"
        }
      ],
      "source": [
        "sns.histplot(data=L, bins=bins, color='blue')\n",
        "fig=plt.gcf()\n",
        "fig.set_size_inches(10,8)\n",
        "plt.show()"
      ]
    },
    {
      "cell_type": "code",
      "execution_count": 388,
      "metadata": {
        "colab": {
          "base_uri": "https://localhost:8080/",
          "height": 269
        },
        "id": "6f5DnaFy1IuC",
        "outputId": "b815e87f-fb11-4096-f58b-794c274fa69a"
      },
      "outputs": [
        {
          "data": {
            "text/html": [
              "<div>\n",
              "<style scoped>\n",
              "    .dataframe tbody tr th:only-of-type {\n",
              "        vertical-align: middle;\n",
              "    }\n",
              "\n",
              "    .dataframe tbody tr th {\n",
              "        vertical-align: top;\n",
              "    }\n",
              "\n",
              "    .dataframe thead th {\n",
              "        text-align: right;\n",
              "    }\n",
              "</style>\n",
              "<table border=\"1\" class=\"dataframe\">\n",
              "  <thead>\n",
              "    <tr style=\"text-align: right;\">\n",
              "      <th></th>\n",
              "      <th>Интервал</th>\n",
              "      <th>Частота</th>\n",
              "      <th>Относительная частота</th>\n",
              "    </tr>\n",
              "  </thead>\n",
              "  <tbody>\n",
              "    <tr>\n",
              "      <th>0</th>\n",
              "      <td>(-2.92;-2.0)</td>\n",
              "      <td>10</td>\n",
              "      <td>0.016667</td>\n",
              "    </tr>\n",
              "    <tr>\n",
              "      <th>1</th>\n",
              "      <td>(-2.0;-1.09)</td>\n",
              "      <td>58</td>\n",
              "      <td>0.096667</td>\n",
              "    </tr>\n",
              "    <tr>\n",
              "      <th>2</th>\n",
              "      <td>(-1.09;-0.17)</td>\n",
              "      <td>195</td>\n",
              "      <td>0.325000</td>\n",
              "    </tr>\n",
              "    <tr>\n",
              "      <th>3</th>\n",
              "      <td>(-0.17;0.75)</td>\n",
              "      <td>218</td>\n",
              "      <td>0.363333</td>\n",
              "    </tr>\n",
              "    <tr>\n",
              "      <th>4</th>\n",
              "      <td>(0.75;1.66)</td>\n",
              "      <td>99</td>\n",
              "      <td>0.165000</td>\n",
              "    </tr>\n",
              "    <tr>\n",
              "      <th>5</th>\n",
              "      <td>(1.66;2.58)</td>\n",
              "      <td>17</td>\n",
              "      <td>0.028333</td>\n",
              "    </tr>\n",
              "    <tr>\n",
              "      <th>6</th>\n",
              "      <td>(2.58;3.49)</td>\n",
              "      <td>3</td>\n",
              "      <td>0.005000</td>\n",
              "    </tr>\n",
              "  </tbody>\n",
              "</table>\n",
              "</div>"
            ],
            "text/plain": [
              "        Интервал  Частота  Относительная частота\n",
              "0   (-2.92;-2.0)       10               0.016667\n",
              "1   (-2.0;-1.09)       58               0.096667\n",
              "2  (-1.09;-0.17)      195               0.325000\n",
              "3   (-0.17;0.75)      218               0.363333\n",
              "4    (0.75;1.66)       99               0.165000\n",
              "5    (1.66;2.58)       17               0.028333\n",
              "6    (2.58;3.49)        3               0.005000"
            ]
          },
          "execution_count": 388,
          "metadata": {},
          "output_type": "execute_result"
        }
      ],
      "source": [
        "df.insert(2, \"Относительная частота\", [df.at[i,\"Частота\"]/len(L) for i in range(7)])\n",
        "df"
      ]
    },
    {
      "cell_type": "code",
      "execution_count": 389,
      "metadata": {
        "colab": {
          "base_uri": "https://localhost:8080/",
          "height": 269
        },
        "id": "epHAa2xx1Uew",
        "outputId": "b8c43096-7976-4df6-f663-316355495621"
      },
      "outputs": [
        {
          "data": {
            "text/html": [
              "<div>\n",
              "<style scoped>\n",
              "    .dataframe tbody tr th:only-of-type {\n",
              "        vertical-align: middle;\n",
              "    }\n",
              "\n",
              "    .dataframe tbody tr th {\n",
              "        vertical-align: top;\n",
              "    }\n",
              "\n",
              "    .dataframe thead th {\n",
              "        text-align: right;\n",
              "    }\n",
              "</style>\n",
              "<table border=\"1\" class=\"dataframe\">\n",
              "  <thead>\n",
              "    <tr style=\"text-align: right;\">\n",
              "      <th></th>\n",
              "      <th>Интервал</th>\n",
              "      <th>Частота</th>\n",
              "      <th>Относительная частота</th>\n",
              "      <th>Плотность частоты</th>\n",
              "    </tr>\n",
              "  </thead>\n",
              "  <tbody>\n",
              "    <tr>\n",
              "      <th>0</th>\n",
              "      <td>(-2.92;-2.0)</td>\n",
              "      <td>10</td>\n",
              "      <td>0.016667</td>\n",
              "      <td>0.0182</td>\n",
              "    </tr>\n",
              "    <tr>\n",
              "      <th>1</th>\n",
              "      <td>(-2.0;-1.09)</td>\n",
              "      <td>58</td>\n",
              "      <td>0.096667</td>\n",
              "      <td>0.1055</td>\n",
              "    </tr>\n",
              "    <tr>\n",
              "      <th>2</th>\n",
              "      <td>(-1.09;-0.17)</td>\n",
              "      <td>195</td>\n",
              "      <td>0.325000</td>\n",
              "      <td>0.3546</td>\n",
              "    </tr>\n",
              "    <tr>\n",
              "      <th>3</th>\n",
              "      <td>(-0.17;0.75)</td>\n",
              "      <td>218</td>\n",
              "      <td>0.363333</td>\n",
              "      <td>0.3965</td>\n",
              "    </tr>\n",
              "    <tr>\n",
              "      <th>4</th>\n",
              "      <td>(0.75;1.66)</td>\n",
              "      <td>99</td>\n",
              "      <td>0.165000</td>\n",
              "      <td>0.1800</td>\n",
              "    </tr>\n",
              "    <tr>\n",
              "      <th>5</th>\n",
              "      <td>(1.66;2.58)</td>\n",
              "      <td>17</td>\n",
              "      <td>0.028333</td>\n",
              "      <td>0.0309</td>\n",
              "    </tr>\n",
              "    <tr>\n",
              "      <th>6</th>\n",
              "      <td>(2.58;3.49)</td>\n",
              "      <td>3</td>\n",
              "      <td>0.005000</td>\n",
              "      <td>0.0055</td>\n",
              "    </tr>\n",
              "  </tbody>\n",
              "</table>\n",
              "</div>"
            ],
            "text/plain": [
              "        Интервал  Частота  Относительная частота  Плотность частоты\n",
              "0   (-2.92;-2.0)       10               0.016667             0.0182\n",
              "1   (-2.0;-1.09)       58               0.096667             0.1055\n",
              "2  (-1.09;-0.17)      195               0.325000             0.3546\n",
              "3   (-0.17;0.75)      218               0.363333             0.3965\n",
              "4    (0.75;1.66)       99               0.165000             0.1800\n",
              "5    (1.66;2.58)       17               0.028333             0.0309\n",
              "6    (2.58;3.49)        3               0.005000             0.0055"
            ]
          },
          "execution_count": 389,
          "metadata": {},
          "output_type": "execute_result"
        }
      ],
      "source": [
        "df.insert(3, \"Плотность частоты\", [round(df.at[i,\"Относительная частота\"]/(bins[1]-bins[0]),4) for i in range(7)])\n",
        "df"
      ]
    },
    {
      "cell_type": "code",
      "execution_count": 390,
      "metadata": {
        "colab": {
          "base_uri": "https://localhost:8080/"
        },
        "id": "x1qbyd9TrvrE",
        "outputId": "b16c1b1c-fbf6-45c1-9321-e008c6ea438e"
      },
      "outputs": [
        {
          "name": "stdout",
          "output_type": "stream",
          "text": [
            "1.0\n"
          ]
        }
      ],
      "source": [
        "Total = df['Относительная частота'].sum()\n",
        "print(Total)"
      ]
    },
    {
      "cell_type": "code",
      "execution_count": 391,
      "metadata": {
        "colab": {
          "base_uri": "https://localhost:8080/",
          "height": 269
        },
        "id": "3A4xQDvP1WAD",
        "outputId": "fd712e52-1c76-41cd-f0fb-3f53ca48dc83"
      },
      "outputs": [
        {
          "data": {
            "text/html": [
              "<div>\n",
              "<style scoped>\n",
              "    .dataframe tbody tr th:only-of-type {\n",
              "        vertical-align: middle;\n",
              "    }\n",
              "\n",
              "    .dataframe tbody tr th {\n",
              "        vertical-align: top;\n",
              "    }\n",
              "\n",
              "    .dataframe thead th {\n",
              "        text-align: right;\n",
              "    }\n",
              "</style>\n",
              "<table border=\"1\" class=\"dataframe\">\n",
              "  <thead>\n",
              "    <tr style=\"text-align: right;\">\n",
              "      <th></th>\n",
              "      <th>Интервал</th>\n",
              "      <th>Частота</th>\n",
              "      <th>Относительная частота</th>\n",
              "      <th>Плотность частоты</th>\n",
              "      <th>Середина интервала</th>\n",
              "    </tr>\n",
              "  </thead>\n",
              "  <tbody>\n",
              "    <tr>\n",
              "      <th>0</th>\n",
              "      <td>(-2.92;-2.0)</td>\n",
              "      <td>10</td>\n",
              "      <td>0.016667</td>\n",
              "      <td>0.0182</td>\n",
              "      <td>-2.46</td>\n",
              "    </tr>\n",
              "    <tr>\n",
              "      <th>1</th>\n",
              "      <td>(-2.0;-1.09)</td>\n",
              "      <td>58</td>\n",
              "      <td>0.096667</td>\n",
              "      <td>0.1055</td>\n",
              "      <td>-1.55</td>\n",
              "    </tr>\n",
              "    <tr>\n",
              "      <th>2</th>\n",
              "      <td>(-1.09;-0.17)</td>\n",
              "      <td>195</td>\n",
              "      <td>0.325000</td>\n",
              "      <td>0.3546</td>\n",
              "      <td>-0.63</td>\n",
              "    </tr>\n",
              "    <tr>\n",
              "      <th>3</th>\n",
              "      <td>(-0.17;0.75)</td>\n",
              "      <td>218</td>\n",
              "      <td>0.363333</td>\n",
              "      <td>0.3965</td>\n",
              "      <td>0.29</td>\n",
              "    </tr>\n",
              "    <tr>\n",
              "      <th>4</th>\n",
              "      <td>(0.75;1.66)</td>\n",
              "      <td>99</td>\n",
              "      <td>0.165000</td>\n",
              "      <td>0.1800</td>\n",
              "      <td>1.20</td>\n",
              "    </tr>\n",
              "    <tr>\n",
              "      <th>5</th>\n",
              "      <td>(1.66;2.58)</td>\n",
              "      <td>17</td>\n",
              "      <td>0.028333</td>\n",
              "      <td>0.0309</td>\n",
              "      <td>2.12</td>\n",
              "    </tr>\n",
              "    <tr>\n",
              "      <th>6</th>\n",
              "      <td>(2.58;3.49)</td>\n",
              "      <td>3</td>\n",
              "      <td>0.005000</td>\n",
              "      <td>0.0055</td>\n",
              "      <td>3.04</td>\n",
              "    </tr>\n",
              "  </tbody>\n",
              "</table>\n",
              "</div>"
            ],
            "text/plain": [
              "        Интервал  Частота  Относительная частота  Плотность частоты  \\\n",
              "0   (-2.92;-2.0)       10               0.016667             0.0182   \n",
              "1   (-2.0;-1.09)       58               0.096667             0.1055   \n",
              "2  (-1.09;-0.17)      195               0.325000             0.3546   \n",
              "3   (-0.17;0.75)      218               0.363333             0.3965   \n",
              "4    (0.75;1.66)       99               0.165000             0.1800   \n",
              "5    (1.66;2.58)       17               0.028333             0.0309   \n",
              "6    (2.58;3.49)        3               0.005000             0.0055   \n",
              "\n",
              "   Середина интервала  \n",
              "0               -2.46  \n",
              "1               -1.55  \n",
              "2               -0.63  \n",
              "3                0.29  \n",
              "4                1.20  \n",
              "5                2.12  \n",
              "6                3.04  "
            ]
          },
          "execution_count": 391,
          "metadata": {},
          "output_type": "execute_result"
        }
      ],
      "source": [
        "df.insert(4, \"Середина интервала\", [round((bins[1]-bins[0])/2+bins[i],2) for i in range(7)])\n",
        "df"
      ]
    },
    {
      "cell_type": "code",
      "execution_count": 392,
      "metadata": {
        "colab": {
          "base_uri": "https://localhost:8080/",
          "height": 269
        },
        "id": "zpxICzK81Xwi",
        "outputId": "29ccc258-5aeb-44bc-949d-ca140f98f9d4"
      },
      "outputs": [
        {
          "data": {
            "text/html": [
              "<div>\n",
              "<style scoped>\n",
              "    .dataframe tbody tr th:only-of-type {\n",
              "        vertical-align: middle;\n",
              "    }\n",
              "\n",
              "    .dataframe tbody tr th {\n",
              "        vertical-align: top;\n",
              "    }\n",
              "\n",
              "    .dataframe thead th {\n",
              "        text-align: right;\n",
              "    }\n",
              "</style>\n",
              "<table border=\"1\" class=\"dataframe\">\n",
              "  <thead>\n",
              "    <tr style=\"text-align: right;\">\n",
              "      <th></th>\n",
              "      <th>Интервал</th>\n",
              "      <th>Середина интервала</th>\n",
              "      <th>Относительная частота</th>\n",
              "      <th>Плотность частоты</th>\n",
              "      <th>Сумма относительной частоты</th>\n",
              "    </tr>\n",
              "  </thead>\n",
              "  <tbody>\n",
              "    <tr>\n",
              "      <th>0</th>\n",
              "      <td>(-2.92;-2.0)</td>\n",
              "      <td>-2.46</td>\n",
              "      <td>0.016667</td>\n",
              "      <td>0.0182</td>\n",
              "      <td>0.016667</td>\n",
              "    </tr>\n",
              "    <tr>\n",
              "      <th>1</th>\n",
              "      <td>(-2.0;-1.09)</td>\n",
              "      <td>-1.55</td>\n",
              "      <td>0.096667</td>\n",
              "      <td>0.1055</td>\n",
              "      <td>0.113333</td>\n",
              "    </tr>\n",
              "    <tr>\n",
              "      <th>2</th>\n",
              "      <td>(-1.09;-0.17)</td>\n",
              "      <td>-0.63</td>\n",
              "      <td>0.325000</td>\n",
              "      <td>0.3546</td>\n",
              "      <td>0.438333</td>\n",
              "    </tr>\n",
              "    <tr>\n",
              "      <th>3</th>\n",
              "      <td>(-0.17;0.75)</td>\n",
              "      <td>0.29</td>\n",
              "      <td>0.363333</td>\n",
              "      <td>0.3965</td>\n",
              "      <td>0.801667</td>\n",
              "    </tr>\n",
              "    <tr>\n",
              "      <th>4</th>\n",
              "      <td>(0.75;1.66)</td>\n",
              "      <td>1.20</td>\n",
              "      <td>0.165000</td>\n",
              "      <td>0.1800</td>\n",
              "      <td>0.966667</td>\n",
              "    </tr>\n",
              "    <tr>\n",
              "      <th>5</th>\n",
              "      <td>(1.66;2.58)</td>\n",
              "      <td>2.12</td>\n",
              "      <td>0.028333</td>\n",
              "      <td>0.0309</td>\n",
              "      <td>0.995000</td>\n",
              "    </tr>\n",
              "    <tr>\n",
              "      <th>6</th>\n",
              "      <td>(2.58;3.49)</td>\n",
              "      <td>3.04</td>\n",
              "      <td>0.005000</td>\n",
              "      <td>0.0055</td>\n",
              "      <td>1.000000</td>\n",
              "    </tr>\n",
              "  </tbody>\n",
              "</table>\n",
              "</div>"
            ],
            "text/plain": [
              "        Интервал  Середина интервала  Относительная частота  \\\n",
              "0   (-2.92;-2.0)               -2.46               0.016667   \n",
              "1   (-2.0;-1.09)               -1.55               0.096667   \n",
              "2  (-1.09;-0.17)               -0.63               0.325000   \n",
              "3   (-0.17;0.75)                0.29               0.363333   \n",
              "4    (0.75;1.66)                1.20               0.165000   \n",
              "5    (1.66;2.58)                2.12               0.028333   \n",
              "6    (2.58;3.49)                3.04               0.005000   \n",
              "\n",
              "   Плотность частоты  Сумма относительной частоты  \n",
              "0             0.0182                     0.016667  \n",
              "1             0.1055                     0.113333  \n",
              "2             0.3546                     0.438333  \n",
              "3             0.3965                     0.801667  \n",
              "4             0.1800                     0.966667  \n",
              "5             0.0309                     0.995000  \n",
              "6             0.0055                     1.000000  "
            ]
          },
          "execution_count": 392,
          "metadata": {},
          "output_type": "execute_result"
        }
      ],
      "source": [
        "df1=pd.DataFrame()\n",
        "df1=df[[\"Интервал\",\"Середина интервала\",\"Относительная частота\",\"Плотность частоты\"]]\n",
        "df1.insert(4, \"Сумма относительной частоты\", [df.at[i,\"Относительная частота\"] for i in range(7)])\n",
        "s=0\n",
        "for i in range(7):\n",
        "  df1.at[i,\"Сумма относительной частоты\"]=s+df1.at[i,\"Сумма относительной частоты\"]\n",
        "  s=df1.at[i,\"Сумма относительной частоты\"]\n",
        "df1.at[6,\"Сумма относительной частоты\"]=1\n",
        "df1"
      ]
    },
    {
      "cell_type": "code",
      "execution_count": 393,
      "metadata": {
        "colab": {
          "base_uri": "https://localhost:8080/",
          "height": 497
        },
        "id": "SjaBguBv1aEn",
        "outputId": "fa76128f-8a6a-4673-f788-2563594d38e4"
      },
      "outputs": [
        {
          "data": {
            "image/png": "[encoded data removed]",
            "text/plain": [
              "<Figure size 1000x800 with 1 Axes>"
            ]
          },
          "metadata": {},
          "output_type": "display_data"
        }
      ],
      "source": [
        "\n",
        "import matplotlib.pyplot as plt\n",
        "\n",
        "x = [df.at[i,'Середина интервала'] for i in range(7)]\n",
        "y = [df.at[i,'Плотность частоты'] for i in range(7)]\n",
        "plt.bar(x,y,align='center',width=0.5) # A bar chart\n",
        "plt.plot(x,y,color=\"red\")\n",
        "plt.scatter(x,y,color=\"red\",s=100)\n",
        "plt.ylabel('Плотность частоты')\n",
        "plt.xlabel('Середина интервала')\n",
        "fig=plt.gcf()\n",
        "fig.set_size_inches(10,8)"
      ]
    },
    {
      "cell_type": "code",
      "execution_count": 394,
      "metadata": {
        "id": "htf18V84Aemn"
      },
      "outputs": [],
      "source": [
        "L1=[]\n",
        "for i in range(len(L)):\n",
        "  L1+=[L[i]/(len(L)*(bins[1]-bins[0]))]"
      ]
    },
    {
      "cell_type": "code",
      "execution_count": 395,
      "metadata": {
        "colab": {
          "base_uri": "https://localhost:8080/"
        },
        "id": "5TRP4CE61deU",
        "outputId": "31d669b6-5252-445f-dc3a-0a5da2446532"
      },
      "outputs": [
        {
          "data": {
            "text/plain": [
              "-0.0009540912317085478"
            ]
          },
          "execution_count": 395,
          "metadata": {},
          "output_type": "execute_result"
        }
      ],
      "source": [
        "M=sum(L)/len(L)  # выборочное среднее\n",
        "M"
      ]
    },
    {
      "cell_type": "code",
      "execution_count": 396,
      "metadata": {
        "colab": {
          "base_uri": "https://localhost:8080/"
        },
        "id": "ymHVH8ctrokH",
        "outputId": "de733d44-11a3-498f-a9b5-d1aa0fe2d743"
      },
      "outputs": [
        {
          "data": {
            "text/plain": [
              "-0.000761447698612151"
            ]
          },
          "execution_count": 396,
          "metadata": {},
          "output_type": "execute_result"
        }
      ],
      "source": [
        "sigma=M*(2/3.14)**0.5\n",
        "sigma"
      ]
    },
    {
      "cell_type": "code",
      "execution_count": 397,
      "metadata": {
        "colab": {
          "base_uri": "https://localhost:8080/",
          "height": 269
        },
        "id": "fPo4z-YA1h6z",
        "outputId": "76df80cf-607b-4f39-e3bb-3ede043bdd56"
      },
      "outputs": [
        {
          "data": {
            "text/html": [
              "<div>\n",
              "<style scoped>\n",
              "    .dataframe tbody tr th:only-of-type {\n",
              "        vertical-align: middle;\n",
              "    }\n",
              "\n",
              "    .dataframe tbody tr th {\n",
              "        vertical-align: top;\n",
              "    }\n",
              "\n",
              "    .dataframe thead th {\n",
              "        text-align: right;\n",
              "    }\n",
              "</style>\n",
              "<table border=\"1\" class=\"dataframe\">\n",
              "  <thead>\n",
              "    <tr style=\"text-align: right;\">\n",
              "      <th></th>\n",
              "      <th>Интервал</th>\n",
              "      <th>Частота</th>\n",
              "      <th>Середина интервала</th>\n",
              "      <th>Плотность частоты</th>\n",
              "      <th>Теоретическая плотность</th>\n",
              "    </tr>\n",
              "  </thead>\n",
              "  <tbody>\n",
              "    <tr>\n",
              "      <th>0</th>\n",
              "      <td>(-2.92;-2.0)</td>\n",
              "      <td>10</td>\n",
              "      <td>-2.46</td>\n",
              "      <td>0.0182</td>\n",
              "      <td>-0.0</td>\n",
              "    </tr>\n",
              "    <tr>\n",
              "      <th>1</th>\n",
              "      <td>(-2.0;-1.09)</td>\n",
              "      <td>58</td>\n",
              "      <td>-1.55</td>\n",
              "      <td>0.1055</td>\n",
              "      <td>-0.0</td>\n",
              "    </tr>\n",
              "    <tr>\n",
              "      <th>2</th>\n",
              "      <td>(-1.09;-0.17)</td>\n",
              "      <td>195</td>\n",
              "      <td>-0.63</td>\n",
              "      <td>0.3546</td>\n",
              "      <td>-0.0</td>\n",
              "    </tr>\n",
              "    <tr>\n",
              "      <th>3</th>\n",
              "      <td>(-0.17;0.75)</td>\n",
              "      <td>218</td>\n",
              "      <td>0.29</td>\n",
              "      <td>0.3965</td>\n",
              "      <td>0.0</td>\n",
              "    </tr>\n",
              "    <tr>\n",
              "      <th>4</th>\n",
              "      <td>(0.75;1.66)</td>\n",
              "      <td>99</td>\n",
              "      <td>1.20</td>\n",
              "      <td>0.1800</td>\n",
              "      <td>0.0</td>\n",
              "    </tr>\n",
              "    <tr>\n",
              "      <th>5</th>\n",
              "      <td>(1.66;2.58)</td>\n",
              "      <td>17</td>\n",
              "      <td>2.12</td>\n",
              "      <td>0.0309</td>\n",
              "      <td>0.0</td>\n",
              "    </tr>\n",
              "    <tr>\n",
              "      <th>6</th>\n",
              "      <td>(2.58;3.49)</td>\n",
              "      <td>3</td>\n",
              "      <td>3.04</td>\n",
              "      <td>0.0055</td>\n",
              "      <td>0.0</td>\n",
              "    </tr>\n",
              "  </tbody>\n",
              "</table>\n",
              "</div>"
            ],
            "text/plain": [
              "        Интервал  Частота  Середина интервала  Плотность частоты  \\\n",
              "0   (-2.92;-2.0)       10               -2.46             0.0182   \n",
              "1   (-2.0;-1.09)       58               -1.55             0.1055   \n",
              "2  (-1.09;-0.17)      195               -0.63             0.3546   \n",
              "3   (-0.17;0.75)      218                0.29             0.3965   \n",
              "4    (0.75;1.66)       99                1.20             0.1800   \n",
              "5    (1.66;2.58)       17                2.12             0.0309   \n",
              "6    (2.58;3.49)        3                3.04             0.0055   \n",
              "\n",
              "   Теоретическая плотность  \n",
              "0                     -0.0  \n",
              "1                     -0.0  \n",
              "2                     -0.0  \n",
              "3                      0.0  \n",
              "4                      0.0  \n",
              "5                      0.0  \n",
              "6                      0.0  "
            ]
          },
          "execution_count": 397,
          "metadata": {},
          "output_type": "execute_result"
        }
      ],
      "source": [
        "df2=df[[\"Интервал\",\"Частота\",\"Середина интервала\",\"Плотность частоты\"]]\n",
        "df2.insert(4, \"Теоретическая плотность\", [df.at[i,'Середина интервала']/(sigma*sigma)*math.exp(-df.at[i,'Середина интервала']*df.at[i,'Середина интервала']/(2*sigma*sigma)) for i in range(7)])\n",
        "df2"
      ]
    },
    {
      "cell_type": "code",
      "execution_count": 398,
      "metadata": {
        "colab": {
          "base_uri": "https://localhost:8080/",
          "height": 497
        },
        "id": "sxicaOPMsF4s",
        "outputId": "2d5e4719-fe9c-4e72-b330-8a6370b18260"
      },
      "outputs": [
        {
          "data": {
            "image/png": "[encoded data removed]",
            "text/plain": [
              "<Figure size 1000x800 with 1 Axes>"
            ]
          },
          "metadata": {},
          "output_type": "display_data"
        }
      ],
      "source": [
        "import matplotlib.pyplot as plt\n",
        "\n",
        "x = [df.at[i,'Середина интервала'] for i in range(7)]\n",
        "y = [df.at[i,'Плотность частоты'] for i in range(7)]\n",
        "plt.bar(x,y,align='center',width=0.413) # A bar chart\n",
        "plt.plot(x,y,color=\"blue\")\n",
        "plt.scatter(x,y,color=\"blue\",s=100)\n",
        "x1 = [df2.at[i,'Середина интервала'] for i in range(7)]\n",
        "y1 = [df2.at[i,'Теоретическая плотность'] for i in range(7)]\n",
        "plt.ylabel('Плотность частоты')\n",
        "plt.xlabel('Середина интервала')\n",
        "plt.plot(x1,y1,color=\"red\")\n",
        "fig=plt.gcf()\n",
        "fig.set_size_inches(10,8)"
      ]
    },
    {
      "cell_type": "code",
      "execution_count": 399,
      "metadata": {
        "colab": {
          "base_uri": "https://localhost:8080/"
        },
        "id": "RdRSTlYdsMkh",
        "outputId": "b6d5169d-4e85-4691-d6a3-10efc69554fb"
      },
      "outputs": [
        {
          "name": "stdout",
          "output_type": "stream",
          "text": [
            "-2.920013053308886\n",
            "3.494967369447637\n",
            "0.9164257746795033\n",
            "[-2.920013053308886, -2.003587278629383, -1.0871615039498796, -0.17073572927037617, 0.7456900454091269, 1.66211582008863, 2.578541594768134, 3.494967369447637]\n"
          ]
        }
      ],
      "source": [
        "def F(x,sigma):\n",
        "  return 1-math.exp(-x*x/(2*sigma*sigma))\n",
        "Min=L[0]\n",
        "Max=L[len(L)-1]\n",
        "print(Min)\n",
        "print(Max)\n",
        "d=(Max-Min)/m\n",
        "print(d)\n",
        "bins= [Min+d*i for i in range(8)]\n",
        "print(bins)"
      ]
    },
    {
      "cell_type": "code",
      "execution_count": 400,
      "metadata": {
        "colab": {
          "base_uri": "https://localhost:8080/",
          "height": 477
        },
        "id": "H6EHVMjQw3xZ",
        "outputId": "1102a55c-d1da-4132-bab3-dc05098516dd"
      },
      "outputs": [
        {
          "name": "stderr",
          "output_type": "stream",
          "text": [
            "C:\\Users\\dimar\\AppData\\Local\\Temp\\ipykernel_1192\\130014228.py:6: SettingWithCopyWarning: \n",
            "A value is trying to be set on a copy of a slice from a DataFrame.\n",
            "Try using .loc[row_indexer,col_indexer] = value instead\n",
            "\n",
            "See the caveats in the documentation: https://pandas.pydata.org/pandas-docs/stable/user_guide/indexing.html#returning-a-view-versus-a-copy\n",
            "  df2.at[i,\"Вероятность pi*\"]=( 1-math.exp(-b*b/(2*sigma*sigma)))-( 1-math.exp(-a*a/(2*sigma*sigma)))\n"
          ]
        },
        {
          "data": {
            "text/html": [
              "<div>\n",
              "<style scoped>\n",
              "    .dataframe tbody tr th:only-of-type {\n",
              "        vertical-align: middle;\n",
              "    }\n",
              "\n",
              "    .dataframe tbody tr th {\n",
              "        vertical-align: top;\n",
              "    }\n",
              "\n",
              "    .dataframe thead th {\n",
              "        text-align: right;\n",
              "    }\n",
              "</style>\n",
              "<table border=\"1\" class=\"dataframe\">\n",
              "  <thead>\n",
              "    <tr style=\"text-align: right;\">\n",
              "      <th></th>\n",
              "      <th>Интервал</th>\n",
              "      <th>Частота</th>\n",
              "      <th>Середина интервала</th>\n",
              "      <th>Плотность частоты</th>\n",
              "      <th>Теоретическая плотность</th>\n",
              "      <th>Вероятность pi*</th>\n",
              "    </tr>\n",
              "  </thead>\n",
              "  <tbody>\n",
              "    <tr>\n",
              "      <th>0</th>\n",
              "      <td>(-2.92;-2.0)</td>\n",
              "      <td>10</td>\n",
              "      <td>-2.46</td>\n",
              "      <td>0.0182</td>\n",
              "      <td>-0.0</td>\n",
              "      <td>0.0</td>\n",
              "    </tr>\n",
              "    <tr>\n",
              "      <th>1</th>\n",
              "      <td>(-2.0;-1.09)</td>\n",
              "      <td>58</td>\n",
              "      <td>-1.55</td>\n",
              "      <td>0.1055</td>\n",
              "      <td>-0.0</td>\n",
              "      <td>0.0</td>\n",
              "    </tr>\n",
              "    <tr>\n",
              "      <th>2</th>\n",
              "      <td>(-1.09;-0.17)</td>\n",
              "      <td>195</td>\n",
              "      <td>-0.63</td>\n",
              "      <td>0.3546</td>\n",
              "      <td>-0.0</td>\n",
              "      <td>0.0</td>\n",
              "    </tr>\n",
              "    <tr>\n",
              "      <th>3</th>\n",
              "      <td>(-0.17;0.75)</td>\n",
              "      <td>218</td>\n",
              "      <td>0.29</td>\n",
              "      <td>0.3965</td>\n",
              "      <td>0.0</td>\n",
              "      <td>0.0</td>\n",
              "    </tr>\n",
              "    <tr>\n",
              "      <th>4</th>\n",
              "      <td>(0.75;1.66)</td>\n",
              "      <td>99</td>\n",
              "      <td>1.20</td>\n",
              "      <td>0.1800</td>\n",
              "      <td>0.0</td>\n",
              "      <td>0.0</td>\n",
              "    </tr>\n",
              "    <tr>\n",
              "      <th>5</th>\n",
              "      <td>(1.66;2.58)</td>\n",
              "      <td>17</td>\n",
              "      <td>2.12</td>\n",
              "      <td>0.0309</td>\n",
              "      <td>0.0</td>\n",
              "      <td>0.0</td>\n",
              "    </tr>\n",
              "    <tr>\n",
              "      <th>6</th>\n",
              "      <td>(2.58;3.49)</td>\n",
              "      <td>3</td>\n",
              "      <td>3.04</td>\n",
              "      <td>0.0055</td>\n",
              "      <td>0.0</td>\n",
              "      <td>0.0</td>\n",
              "    </tr>\n",
              "  </tbody>\n",
              "</table>\n",
              "</div>"
            ],
            "text/plain": [
              "        Интервал  Частота  Середина интервала  Плотность частоты  \\\n",
              "0   (-2.92;-2.0)       10               -2.46             0.0182   \n",
              "1   (-2.0;-1.09)       58               -1.55             0.1055   \n",
              "2  (-1.09;-0.17)      195               -0.63             0.3546   \n",
              "3   (-0.17;0.75)      218                0.29             0.3965   \n",
              "4    (0.75;1.66)       99                1.20             0.1800   \n",
              "5    (1.66;2.58)       17                2.12             0.0309   \n",
              "6    (2.58;3.49)        3                3.04             0.0055   \n",
              "\n",
              "   Теоретическая плотность  Вероятность pi*  \n",
              "0                     -0.0              0.0  \n",
              "1                     -0.0              0.0  \n",
              "2                     -0.0              0.0  \n",
              "3                      0.0              0.0  \n",
              "4                      0.0              0.0  \n",
              "5                      0.0              0.0  \n",
              "6                      0.0              0.0  "
            ]
          },
          "execution_count": 400,
          "metadata": {},
          "output_type": "execute_result"
        }
      ],
      "source": [
        "a=0\n",
        "b=0\n",
        "for i in range(7):\n",
        "  a=round(Min+d*i,2)\n",
        "  b=round(Min+d*(i+1),2)\n",
        "  df2.at[i,\"Вероятность pi*\"]=( 1-math.exp(-b*b/(2*sigma*sigma)))-( 1-math.exp(-a*a/(2*sigma*sigma)))\n",
        "df2"
      ]
    },
    {
      "cell_type": "code",
      "execution_count": 401,
      "metadata": {
        "id": "95tbsFrP1VkD"
      },
      "outputs": [],
      "source": [
        "SumFr=0\n",
        "for i in range(7):\n",
        "  SumFr+=df2.at[i,\"Частота\"]"
      ]
    },
    {
      "cell_type": "code",
      "execution_count": 402,
      "metadata": {
        "colab": {
          "base_uri": "https://localhost:8080/",
          "height": 477
        },
        "id": "SJvXT3qLyBDn",
        "outputId": "3dbeb4cc-463e-471b-8b66-b50f39a3d410"
      },
      "outputs": [
        {
          "name": "stderr",
          "output_type": "stream",
          "text": [
            "C:\\Users\\dimar\\AppData\\Local\\Temp\\ipykernel_1192\\1712323443.py:2: SettingWithCopyWarning: \n",
            "A value is trying to be set on a copy of a slice from a DataFrame.\n",
            "Try using .loc[row_indexer,col_indexer] = value instead\n",
            "\n",
            "See the caveats in the documentation: https://pandas.pydata.org/pandas-docs/stable/user_guide/indexing.html#returning-a-view-versus-a-copy\n",
            "  df2.at[i,\"Ожидаемые значения n*pi*\"]=SumFr*df2.at[i,\"Вероятность pi*\"]\n"
          ]
        },
        {
          "data": {
            "text/html": [
              "<div>\n",
              "<style scoped>\n",
              "    .dataframe tbody tr th:only-of-type {\n",
              "        vertical-align: middle;\n",
              "    }\n",
              "\n",
              "    .dataframe tbody tr th {\n",
              "        vertical-align: top;\n",
              "    }\n",
              "\n",
              "    .dataframe thead th {\n",
              "        text-align: right;\n",
              "    }\n",
              "</style>\n",
              "<table border=\"1\" class=\"dataframe\">\n",
              "  <thead>\n",
              "    <tr style=\"text-align: right;\">\n",
              "      <th></th>\n",
              "      <th>Интервал</th>\n",
              "      <th>Частота</th>\n",
              "      <th>Середина интервала</th>\n",
              "      <th>Плотность частоты</th>\n",
              "      <th>Теоретическая плотность</th>\n",
              "      <th>Вероятность pi*</th>\n",
              "      <th>Ожидаемые значения n*pi*</th>\n",
              "    </tr>\n",
              "  </thead>\n",
              "  <tbody>\n",
              "    <tr>\n",
              "      <th>0</th>\n",
              "      <td>(-2.92;-2.0)</td>\n",
              "      <td>10</td>\n",
              "      <td>-2.46</td>\n",
              "      <td>0.0182</td>\n",
              "      <td>-0.0</td>\n",
              "      <td>0.0</td>\n",
              "      <td>0.0</td>\n",
              "    </tr>\n",
              "    <tr>\n",
              "      <th>1</th>\n",
              "      <td>(-2.0;-1.09)</td>\n",
              "      <td>58</td>\n",
              "      <td>-1.55</td>\n",
              "      <td>0.1055</td>\n",
              "      <td>-0.0</td>\n",
              "      <td>0.0</td>\n",
              "      <td>0.0</td>\n",
              "    </tr>\n",
              "    <tr>\n",
              "      <th>2</th>\n",
              "      <td>(-1.09;-0.17)</td>\n",
              "      <td>195</td>\n",
              "      <td>-0.63</td>\n",
              "      <td>0.3546</td>\n",
              "      <td>-0.0</td>\n",
              "      <td>0.0</td>\n",
              "      <td>0.0</td>\n",
              "    </tr>\n",
              "    <tr>\n",
              "      <th>3</th>\n",
              "      <td>(-0.17;0.75)</td>\n",
              "      <td>218</td>\n",
              "      <td>0.29</td>\n",
              "      <td>0.3965</td>\n",
              "      <td>0.0</td>\n",
              "      <td>0.0</td>\n",
              "      <td>0.0</td>\n",
              "    </tr>\n",
              "    <tr>\n",
              "      <th>4</th>\n",
              "      <td>(0.75;1.66)</td>\n",
              "      <td>99</td>\n",
              "      <td>1.20</td>\n",
              "      <td>0.1800</td>\n",
              "      <td>0.0</td>\n",
              "      <td>0.0</td>\n",
              "      <td>0.0</td>\n",
              "    </tr>\n",
              "    <tr>\n",
              "      <th>5</th>\n",
              "      <td>(1.66;2.58)</td>\n",
              "      <td>17</td>\n",
              "      <td>2.12</td>\n",
              "      <td>0.0309</td>\n",
              "      <td>0.0</td>\n",
              "      <td>0.0</td>\n",
              "      <td>0.0</td>\n",
              "    </tr>\n",
              "    <tr>\n",
              "      <th>6</th>\n",
              "      <td>(2.58;3.49)</td>\n",
              "      <td>3</td>\n",
              "      <td>3.04</td>\n",
              "      <td>0.0055</td>\n",
              "      <td>0.0</td>\n",
              "      <td>0.0</td>\n",
              "      <td>0.0</td>\n",
              "    </tr>\n",
              "  </tbody>\n",
              "</table>\n",
              "</div>"
            ],
            "text/plain": [
              "        Интервал  Частота  Середина интервала  Плотность частоты  \\\n",
              "0   (-2.92;-2.0)       10               -2.46             0.0182   \n",
              "1   (-2.0;-1.09)       58               -1.55             0.1055   \n",
              "2  (-1.09;-0.17)      195               -0.63             0.3546   \n",
              "3   (-0.17;0.75)      218                0.29             0.3965   \n",
              "4    (0.75;1.66)       99                1.20             0.1800   \n",
              "5    (1.66;2.58)       17                2.12             0.0309   \n",
              "6    (2.58;3.49)        3                3.04             0.0055   \n",
              "\n",
              "   Теоретическая плотность  Вероятность pi*  Ожидаемые значения n*pi*  \n",
              "0                     -0.0              0.0                       0.0  \n",
              "1                     -0.0              0.0                       0.0  \n",
              "2                     -0.0              0.0                       0.0  \n",
              "3                      0.0              0.0                       0.0  \n",
              "4                      0.0              0.0                       0.0  \n",
              "5                      0.0              0.0                       0.0  \n",
              "6                      0.0              0.0                       0.0  "
            ]
          },
          "execution_count": 402,
          "metadata": {},
          "output_type": "execute_result"
        }
      ],
      "source": [
        "for i in range(7):\n",
        "  df2.at[i,\"Ожидаемые значения n*pi*\"]=SumFr*df2.at[i,\"Вероятность pi*\"]\n",
        "df2"
      ]
    },
    {
      "cell_type": "code",
      "execution_count": 403,
      "metadata": {
        "colab": {
          "base_uri": "https://localhost:8080/"
        },
        "id": "OI-h9QK1szFD",
        "outputId": "61a06fb4-3b32-459c-ebeb-7784dfd537bc"
      },
      "outputs": [
        {
          "name": "stdout",
          "output_type": "stream",
          "text": [
            "0.0\n"
          ]
        }
      ],
      "source": [
        "Total = df2['Вероятность pi*'].sum()\n",
        "print(Total)"
      ]
    },
    {
      "cell_type": "code",
      "execution_count": 404,
      "metadata": {
        "colab": {
          "base_uri": "https://localhost:8080/",
          "height": 477
        },
        "id": "n7CkTSIS0OPI",
        "outputId": "567c5698-7a3d-44b3-cda2-893f244f383e"
      },
      "outputs": [
        {
          "name": "stderr",
          "output_type": "stream",
          "text": [
            "C:\\Users\\dimar\\AppData\\Local\\Temp\\ipykernel_1192\\31854066.py:2: RuntimeWarning: divide by zero encountered in double_scalars\n",
            "  df2.at[i,\"(ni-npi*)^2/(npi*)\"]=(df2.at[i,\"Частота\"]-df2.at[i,\"Ожидаемые значения n*pi*\"])**2/df2.at[i,\"Ожидаемые значения n*pi*\"]\n",
            "C:\\Users\\dimar\\AppData\\Local\\Temp\\ipykernel_1192\\31854066.py:2: SettingWithCopyWarning: \n",
            "A value is trying to be set on a copy of a slice from a DataFrame.\n",
            "Try using .loc[row_indexer,col_indexer] = value instead\n",
            "\n",
            "See the caveats in the documentation: https://pandas.pydata.org/pandas-docs/stable/user_guide/indexing.html#returning-a-view-versus-a-copy\n",
            "  df2.at[i,\"(ni-npi*)^2/(npi*)\"]=(df2.at[i,\"Частота\"]-df2.at[i,\"Ожидаемые значения n*pi*\"])**2/df2.at[i,\"Ожидаемые значения n*pi*\"]\n",
            "C:\\Users\\dimar\\AppData\\Local\\Temp\\ipykernel_1192\\31854066.py:2: RuntimeWarning: divide by zero encountered in double_scalars\n",
            "  df2.at[i,\"(ni-npi*)^2/(npi*)\"]=(df2.at[i,\"Частота\"]-df2.at[i,\"Ожидаемые значения n*pi*\"])**2/df2.at[i,\"Ожидаемые значения n*pi*\"]\n"
          ]
        },
        {
          "data": {
            "text/html": [
              "<div>\n",
              "<style scoped>\n",
              "    .dataframe tbody tr th:only-of-type {\n",
              "        vertical-align: middle;\n",
              "    }\n",
              "\n",
              "    .dataframe tbody tr th {\n",
              "        vertical-align: top;\n",
              "    }\n",
              "\n",
              "    .dataframe thead th {\n",
              "        text-align: right;\n",
              "    }\n",
              "</style>\n",
              "<table border=\"1\" class=\"dataframe\">\n",
              "  <thead>\n",
              "    <tr style=\"text-align: right;\">\n",
              "      <th></th>\n",
              "      <th>Интервал</th>\n",
              "      <th>Частота</th>\n",
              "      <th>Середина интервала</th>\n",
              "      <th>Плотность частоты</th>\n",
              "      <th>Теоретическая плотность</th>\n",
              "      <th>Вероятность pi*</th>\n",
              "      <th>Ожидаемые значения n*pi*</th>\n",
              "      <th>(ni-npi*)^2/(npi*)</th>\n",
              "    </tr>\n",
              "  </thead>\n",
              "  <tbody>\n",
              "    <tr>\n",
              "      <th>0</th>\n",
              "      <td>(-2.92;-2.0)</td>\n",
              "      <td>10</td>\n",
              "      <td>-2.46</td>\n",
              "      <td>0.0182</td>\n",
              "      <td>-0.0</td>\n",
              "      <td>0.0</td>\n",
              "      <td>0.0</td>\n",
              "      <td>inf</td>\n",
              "    </tr>\n",
              "    <tr>\n",
              "      <th>1</th>\n",
              "      <td>(-2.0;-1.09)</td>\n",
              "      <td>58</td>\n",
              "      <td>-1.55</td>\n",
              "      <td>0.1055</td>\n",
              "      <td>-0.0</td>\n",
              "      <td>0.0</td>\n",
              "      <td>0.0</td>\n",
              "      <td>inf</td>\n",
              "    </tr>\n",
              "    <tr>\n",
              "      <th>2</th>\n",
              "      <td>(-1.09;-0.17)</td>\n",
              "      <td>195</td>\n",
              "      <td>-0.63</td>\n",
              "      <td>0.3546</td>\n",
              "      <td>-0.0</td>\n",
              "      <td>0.0</td>\n",
              "      <td>0.0</td>\n",
              "      <td>inf</td>\n",
              "    </tr>\n",
              "    <tr>\n",
              "      <th>3</th>\n",
              "      <td>(-0.17;0.75)</td>\n",
              "      <td>218</td>\n",
              "      <td>0.29</td>\n",
              "      <td>0.3965</td>\n",
              "      <td>0.0</td>\n",
              "      <td>0.0</td>\n",
              "      <td>0.0</td>\n",
              "      <td>inf</td>\n",
              "    </tr>\n",
              "    <tr>\n",
              "      <th>4</th>\n",
              "      <td>(0.75;1.66)</td>\n",
              "      <td>99</td>\n",
              "      <td>1.20</td>\n",
              "      <td>0.1800</td>\n",
              "      <td>0.0</td>\n",
              "      <td>0.0</td>\n",
              "      <td>0.0</td>\n",
              "      <td>inf</td>\n",
              "    </tr>\n",
              "    <tr>\n",
              "      <th>5</th>\n",
              "      <td>(1.66;2.58)</td>\n",
              "      <td>17</td>\n",
              "      <td>2.12</td>\n",
              "      <td>0.0309</td>\n",
              "      <td>0.0</td>\n",
              "      <td>0.0</td>\n",
              "      <td>0.0</td>\n",
              "      <td>inf</td>\n",
              "    </tr>\n",
              "    <tr>\n",
              "      <th>6</th>\n",
              "      <td>(2.58;3.49)</td>\n",
              "      <td>3</td>\n",
              "      <td>3.04</td>\n",
              "      <td>0.0055</td>\n",
              "      <td>0.0</td>\n",
              "      <td>0.0</td>\n",
              "      <td>0.0</td>\n",
              "      <td>inf</td>\n",
              "    </tr>\n",
              "  </tbody>\n",
              "</table>\n",
              "</div>"
            ],
            "text/plain": [
              "        Интервал  Частота  Середина интервала  Плотность частоты  \\\n",
              "0   (-2.92;-2.0)       10               -2.46             0.0182   \n",
              "1   (-2.0;-1.09)       58               -1.55             0.1055   \n",
              "2  (-1.09;-0.17)      195               -0.63             0.3546   \n",
              "3   (-0.17;0.75)      218                0.29             0.3965   \n",
              "4    (0.75;1.66)       99                1.20             0.1800   \n",
              "5    (1.66;2.58)       17                2.12             0.0309   \n",
              "6    (2.58;3.49)        3                3.04             0.0055   \n",
              "\n",
              "   Теоретическая плотность  Вероятность pi*  Ожидаемые значения n*pi*  \\\n",
              "0                     -0.0              0.0                       0.0   \n",
              "1                     -0.0              0.0                       0.0   \n",
              "2                     -0.0              0.0                       0.0   \n",
              "3                      0.0              0.0                       0.0   \n",
              "4                      0.0              0.0                       0.0   \n",
              "5                      0.0              0.0                       0.0   \n",
              "6                      0.0              0.0                       0.0   \n",
              "\n",
              "   (ni-npi*)^2/(npi*)  \n",
              "0                 inf  \n",
              "1                 inf  \n",
              "2                 inf  \n",
              "3                 inf  \n",
              "4                 inf  \n",
              "5                 inf  \n",
              "6                 inf  "
            ]
          },
          "execution_count": 404,
          "metadata": {},
          "output_type": "execute_result"
        }
      ],
      "source": [
        "for i in range(7):\n",
        "  df2.at[i,\"(ni-npi*)^2/(npi*)\"]=(df2.at[i,\"Частота\"]-df2.at[i,\"Ожидаемые значения n*pi*\"])**2/df2.at[i,\"Ожидаемые значения n*pi*\"]\n",
        "df2"
      ]
    },
    {
      "cell_type": "code",
      "execution_count": 405,
      "metadata": {
        "colab": {
          "base_uri": "https://localhost:8080/"
        },
        "id": "CgA1JjCj0D4T",
        "outputId": "981e2331-4fd0-4b0f-fd8f-7ac84171272a"
      },
      "outputs": [
        {
          "data": {
            "text/plain": [
              "inf"
            ]
          },
          "execution_count": 405,
          "metadata": {},
          "output_type": "execute_result"
        }
      ],
      "source": [
        "p_view=0\n",
        "for i in range(7):\n",
        "  p_view+=df2.at[i,\"(ni-npi*)^2/(npi*)\"]\n",
        "p_view"
      ]
    },
    {
      "cell_type": "code",
      "execution_count": null,
      "metadata": {
        "id": "LehF62LJ19Bk"
      },
      "outputs": [],
      "source": []
    }
  ],
  "metadata": {
    "colab": {
      "provenance": []
    },
    "kernelspec": {
      "display_name": "Python 3",
      "name": "python3"
    },
    "language_info": {
      "name": "python"
    }
  },
  "nbformat": 4,
  "nbformat_minor": 0
}
